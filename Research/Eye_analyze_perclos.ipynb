{
 "cells": [
  {
   "cell_type": "code",
   "execution_count": 159,
   "metadata": {},
   "outputs": [],
   "source": [
    "# Import \r\n",
    "import pandas as pd\r\n",
    "import numpy as np\r\n",
    "from scipy import signal"
   ]
  },
  {
   "cell_type": "code",
   "execution_count": 160,
   "metadata": {},
   "outputs": [
    {
     "name": "stdout",
     "output_type": "stream",
     "text": [
      "No.                timestamp  eyelids_gap  pupil_x  pupil_y  \\\n",
      "0            1  24-11-2020 14:51:09.687         85.0    224.0    116.0   \n",
      "1            2  24-11-2020 14:51:09.696         82.0    221.0    118.0   \n",
      "2            3  24-11-2020 14:51:09.704         83.0    226.0    114.0   \n",
      "3            4  24-11-2020 14:51:09.712         84.0    219.0    117.0   \n",
      "4            5  24-11-2020 14:51:09.721         85.0    220.0    118.0   \n",
      "...        ...                      ...          ...      ...      ...   \n",
      "221784  221785  24-11-2020 15:21:55.334         41.0    209.0    106.0   \n",
      "221785  221786  24-11-2020 15:21:55.343         43.0    209.0    106.0   \n",
      "221786  221787  24-11-2020 15:21:55.352         41.0    209.0    107.0   \n",
      "221787  221788  24-11-2020 15:21:55.359         44.0    209.0    107.0   \n",
      "221788  221789  24-11-2020 15:21:55.368         41.0    209.0    107.0   \n",
      "\n",
      "        pupil_diameter  \n",
      "0                 37.0  \n",
      "1                 37.0  \n",
      "2                 36.0  \n",
      "3                 39.0  \n",
      "4                 36.0  \n",
      "...                ...  \n",
      "221784            30.0  \n",
      "221785            30.0  \n",
      "221786            30.0  \n",
      "221787            30.0  \n",
      "221788            30.0  \n",
      "\n",
      "[221789 rows x 6 columns]\n"
     ]
    }
   ],
   "source": [
    "# Input file\r\n",
    "folder_path = r'D:\\iriwa\\デスクトップ\\Code\\Project_Python\\Research'\r\n",
    "file_name = r'\\yoshiyama.csv'\r\n",
    "output_filename = '吉山'+'(perclos)'\r\n",
    "\r\n",
    "input_data = pd.read_csv(folder_path + file_name, header=None, skiprows=1,sep=';',names=('No.','timestamp','eyelids_gap','pupil_x','pupil_y','pupil_diameter'))\r\n",
    "\r\n",
    "input_data = input_data.dropna()\r\n",
    "print(input_data)"
   ]
  },
  {
   "cell_type": "code",
   "execution_count": 161,
   "metadata": {},
   "outputs": [
    {
     "name": "stdout",
     "output_type": "stream",
     "text": [
      "1848\n"
     ]
    }
   ],
   "source": [
    "N=128\r\n",
    "fs = 120\r\n",
    "dt = 1/fs\r\n",
    "n = int(len(input_data))\r\n",
    "time1 = pd.DataFrame({'time': [i*dt for i in range(n)]})\r\n",
    "TIME = int(n/fs)\r\n",
    "time2 = pd.DataFrame({'time': [i for i in range(TIME)]})\r\n",
    "print(TIME)"
   ]
  },
  {
   "cell_type": "code",
   "execution_count": 162,
   "metadata": {},
   "outputs": [
    {
     "name": "stdout",
     "output_type": "stream",
     "text": [
      "perclos\n",
      "0       0.841584\n",
      "1       0.811881\n",
      "2       0.821782\n",
      "3       0.831683\n",
      "4       0.841584\n",
      "...          ...\n",
      "221784  0.405941\n",
      "221785  0.425743\n",
      "221786  0.405941\n",
      "221787  0.435644\n",
      "221788  0.405941\n",
      "\n",
      "[221789 rows x 1 columns]\n"
     ]
    }
   ],
   "source": [
    "df = pd.DataFrame({'gap': [i for i in input_data['eyelids_gap']]})\r\n",
    "df = df.interpolate()\r\n",
    "max_gap = df['gap'].max()\r\n",
    "min_gap = df['gap'].min()\r\n",
    "\r\n",
    "df1 = pd.DataFrame({'perclos': [i/max_gap for i in df['gap']]})\r\n",
    "print(df1)\r\n"
   ]
  },
  {
   "cell_type": "code",
   "execution_count": 163,
   "metadata": {},
   "outputs": [],
   "source": [
    "p_50 = pd.DataFrame({'perclos50': [1 if i<0.5 else 0 for i in df1['perclos']]})\r\n",
    "p_60 = pd.DataFrame({'perclos60': [1 if i<0.4 else 0 for i in df1['perclos']]})\r\n",
    "p_70 = pd.DataFrame({'perclos70': [1 if i<0.3 else 0 for i in df1['perclos']]})\r\n",
    "p_80 = pd.DataFrame({'perclos80': [1 if i<0.2 else 0 for i in df1['perclos']]})\r\n",
    "p_90 = pd.DataFrame({'perclos90': [1 if i<0.1 else 0 for i in df1['perclos']]})\r\n"
   ]
  },
  {
   "cell_type": "code",
   "execution_count": 164,
   "metadata": {},
   "outputs": [],
   "source": [
    "per_50 = pd.DataFrame({'perclos50': [p_50.iloc[i*fs:i*fs+fs,0].sum() for i in range(TIME)]})\r\n",
    "per_60 = pd.DataFrame({'perclos60': [p_60.iloc[i*fs:i*fs+fs,0].sum() for i in range(TIME)]})\r\n",
    "per_70 = pd.DataFrame({'perclos70': [p_70.iloc[i*fs:i*fs+fs,0].sum() for i in range(TIME)]})\r\n",
    "per_80 = pd.DataFrame({'perclos80': [p_80.iloc[i*fs:i*fs+fs,0].sum() for i in range(TIME)]})\r\n",
    "per_90 = pd.DataFrame({'perclos90': [p_90.iloc[i*fs:i*fs+fs,0].sum() for i in range(TIME)]})\r\n",
    "\r\n",
    "perclos_50 = per_50.rolling(60).sum()/7200\r\n",
    "perclos_60 = per_60.rolling(60).sum()/7200\r\n",
    "perclos_70 = per_70.rolling(60).sum()/7200\r\n",
    "perclos_80 = per_80.rolling(60).sum()/7200\r\n",
    "perclos_90 = per_90.rolling(60).sum()/7200"
   ]
  },
  {
   "cell_type": "code",
   "execution_count": 165,
   "metadata": {},
   "outputs": [
    {
     "name": "stdout",
     "output_type": "stream",
     "text": [
      "time  perclos50  perclos60  perclos70  perclos80  perclos90\n",
      "0        0        NaN        NaN        NaN        NaN        NaN\n",
      "1        1        NaN        NaN        NaN        NaN        NaN\n",
      "2        2        NaN        NaN        NaN        NaN        NaN\n",
      "3        3        NaN        NaN        NaN        NaN        NaN\n",
      "4        4        NaN        NaN        NaN        NaN        NaN\n",
      "...    ...        ...        ...        ...        ...        ...\n",
      "1843  1843   0.207639   0.170278   0.129306   0.071528   0.038611\n",
      "1844  1844   0.224306   0.186944   0.135694   0.072222   0.038611\n",
      "1845  1845   0.240972   0.203611   0.142778   0.074028   0.039583\n",
      "1846  1846   0.257500   0.214028   0.142778   0.074028   0.039583\n",
      "1847  1847   0.274167   0.230556   0.146528   0.076250   0.040972\n",
      "\n",
      "[1848 rows x 6 columns]\n"
     ]
    }
   ],
   "source": [
    "output_data = pd.concat([time2, perclos_50, perclos_60, perclos_70, perclos_80, perclos_90], axis=1)\r\n",
    "print(output_data)\r\n"
   ]
  },
  {
   "cell_type": "code",
   "execution_count": 166,
   "metadata": {},
   "outputs": [],
   "source": [
    "# Output data\r\n",
    "output_folder_path = 'D:\\\\iriwa\\\\デスクトップ\\\\Code\\\\Project_Python\\\\Research\\\\perclos'\r\n",
    "output_data.to_excel(output_folder_path + '\\\\' + output_filename +'.xlsx', sheet_name=output_filename, index=False)\r\n"
   ]
  }
 ],
 "metadata": {
  "kernelspec": {
   "display_name": "Python 3",
   "language": "python",
   "name": "python3"
  },
  "language_info": {
   "codemirror_mode": {
    "name": "ipython",
    "version": 3
   },
   "file_extension": ".py",
   "mimetype": "text/x-python",
   "name": "python",
   "nbconvert_exporter": "python",
   "pygments_lexer": "ipython3",
   "version": "3.7.9"
  },
  "orig_nbformat": 2
 },
 "nbformat": 4,
 "nbformat_minor": 2
}