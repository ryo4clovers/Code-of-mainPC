{
 "cells": [
  {
   "cell_type": "code",
   "execution_count": 92,
   "metadata": {},
   "outputs": [],
   "source": [
    "# Import \r\n",
    "import pandas as pd\r\n",
    "import numpy as np\r\n",
    "from scipy import signal\r\n",
    "import openpyxl"
   ]
  },
  {
   "cell_type": "code",
   "execution_count": 93,
   "metadata": {},
   "outputs": [
    {
     "name": "stdout",
     "output_type": "stream",
     "text": [
      "time        O1        O2\n",
      "0         0.000  1.203125 -0.493750\n",
      "1         0.001  1.531250 -0.837500\n",
      "2         0.002  1.884375 -1.096875\n",
      "3         0.003  1.384375 -1.056250\n",
      "4         0.004  0.700000 -0.846875\n",
      "...         ...       ...       ...\n",
      "182545  182.545  0.696875 -0.012500\n",
      "182546  182.546  0.978125 -0.425000\n",
      "182547  182.547  1.093750 -0.759375\n",
      "182548  182.548  1.234375 -1.046875\n",
      "182549  182.549  0.878125 -1.115625\n",
      "\n",
      "[182550 rows x 3 columns]\n"
     ]
    }
   ],
   "source": [
    "# Input file\r\n",
    "folder_path = r'D:\\iriwa\\デスクトップ\\Code\\Project_Python\\Research'\r\n",
    "file_name = r'\\yoshiyama_test.txt'\r\n",
    "\r\n",
    "output_filename = '吉山_test'+'(EEG)'\r\n",
    "\r\n",
    "\r\n",
    "input_data = pd.read_table(folder_path + file_name, header=None, skiprows=6, names=('time','O1','O2'))\r\n",
    "input_data = input_data.interpolate()\r\n",
    "print(input_data)"
   ]
  },
  {
   "cell_type": "code",
   "execution_count": 94,
   "metadata": {},
   "outputs": [
    {
     "name": "stdout",
     "output_type": "stream",
     "text": [
      "182秒分のデータ\n",
      "     time\n",
      "0       0\n",
      "1       1\n",
      "2       2\n",
      "3       3\n",
      "4       4\n",
      "..    ...\n",
      "177   177\n",
      "178   178\n",
      "179   179\n",
      "180   180\n",
      "181   181\n",
      "\n",
      "[182 rows x 1 columns]\n"
     ]
    }
   ],
   "source": [
    "N  = 1024   # Sampling size # サンプリングサイズ(FFTサイズ)\r\n",
    "dt = 0.001  # Sampling period[s]        # サンプリング周期[s]\r\n",
    "fs = 1/dt   # Sampling rate[Hz]         # サンプリング周波数[Hz]\r\n",
    "TIME = int(len(input_data)/fs)  # Data time[s]  #データ時間[s]\r\n",
    "print('%d秒分のデータ'%TIME)\r\n",
    "time = pd.DataFrame({'time': [i for i in range(TIME)]})\r\n",
    "print(time)"
   ]
  },
  {
   "cell_type": "code",
   "execution_count": 95,
   "metadata": {},
   "outputs": [],
   "source": [
    "filter1 = signal.firwin(numtaps=16, cutoff=[1,30],pass_zero=False, fs=1/dt) # Filter (bandpass)\r\n",
    "wf = signal.hamming(N)  # Window function(hamming)"
   ]
  },
  {
   "cell_type": "code",
   "execution_count": 96,
   "metadata": {},
   "outputs": [
    {
     "name": "stdout",
     "output_type": "stream",
     "text": [
      "O1_MPF  O1_alpha   O1_beta  O1_theta  O1_delta     O2_MPF  O2_alpha  \\\n",
      "0    13.431973  0.110937  0.513184  0.171229  0.204650   8.542997  0.121766   \n",
      "1    12.631207  0.166735  0.440731  0.164397  0.228137   9.018923  0.175065   \n",
      "2    12.538571  0.158664  0.448071  0.142477  0.250788   9.488294  0.220841   \n",
      "3    11.453838  0.181045  0.393725  0.178593  0.246638   5.445266  0.074890   \n",
      "4    13.941220  0.138106  0.546005  0.156303  0.159586   5.708028  0.069775   \n",
      "..         ...       ...       ...       ...       ...        ...       ...   \n",
      "177   8.625899  0.153632  0.240799  0.158557  0.447012   8.983073  0.130232   \n",
      "178  12.512118  0.221389  0.417275  0.223861  0.137474   8.794282  0.231354   \n",
      "179  14.154308  0.231841  0.494551  0.180317  0.093291  10.633854  0.226393   \n",
      "180  13.495515  0.305092  0.422930  0.152995  0.118983   9.390828  0.212432   \n",
      "181  11.957704  0.217038  0.381041  0.204213  0.197707  10.378335  0.225247   \n",
      "\n",
      "      O2_beta  O2_theta  O2_delta  \n",
      "0    0.217606  0.180619  0.480009  \n",
      "1    0.244647  0.137827  0.442461  \n",
      "2    0.248862  0.132023  0.398275  \n",
      "3    0.076001  0.228851  0.620258  \n",
      "4    0.130182  0.108768  0.691275  \n",
      "..        ...       ...       ...  \n",
      "177  0.260471  0.189066  0.420231  \n",
      "178  0.221887  0.096508  0.450250  \n",
      "179  0.339171  0.099423  0.335013  \n",
      "180  0.255239  0.156156  0.376173  \n",
      "181  0.321549  0.084695  0.368510  \n",
      "\n",
      "[182 rows x 10 columns]\n"
     ]
    }
   ],
   "source": [
    "output_data = []\r\n",
    "for n in range(2):\r\n",
    "    filter_data = signal.lfilter(filter1, 1, input_data.iloc[:, n+1])   # Filtering(bandpass)   # フィルタリング(バンドパス)\r\n",
    "    # cut_data    = []    #cutting for FFT   # FFT用に整形されたデータ\r\n",
    "    # window_data = []    #apply window function # 窓関数適用データ\r\n",
    "    \r\n",
    "    MPF   = [np.nan for i in range(TIME)]\r\n",
    "    alpha = [np.nan for i in range(TIME)]\r\n",
    "    beta  = [np.nan for i in range(TIME)]\r\n",
    "    theta = [np.nan for i in range(TIME)]\r\n",
    "    delta = [np.nan for i in range(TIME)]\r\n",
    "\r\n",
    "    for i in range(TIME):\r\n",
    "        # Formatted to 1s(1000+24data) & Apply window function  # 1秒(1000+24個)を切り取り & 窓関数適用\r\n",
    "        Format_data = [filter_data[j+i*int(fs)] * wf[j] for j in range(N)]  # Formatted to 1s(1000+24data)  # 1秒(1000+24個)を切り取り\r\n",
    "\r\n",
    "        #Func_FFT() #FFT    #高速フーリエ変換\r\n",
    "        F = np.fft.fft(Format_data)\r\n",
    "        amplitude = np.abs(F)   # Amplitude     # 振幅スペクトル(F/N/2)\r\n",
    "        power = amplitude ** 2        # Power         # パワースペクトル\r\n",
    "        density = power/(fs/N)     # Power Density # パワースペクトル密度\r\n",
    "        freq = np.fft.fftfreq(N, d=dt)\r\n",
    "        f_l = int(len(freq)/2)\r\n",
    "        \r\n",
    "        #Func_cal\r\n",
    "        sum_alpha = 0\r\n",
    "        sum_beta = 0\r\n",
    "        sum_theta = 0\r\n",
    "        sum_delta = 0\r\n",
    "        total_fp = 0\r\n",
    "        total_power = 0\r\n",
    "\r\n",
    "        for l in range(f_l):\r\n",
    "            if freq[l] >= 1.0 and freq[l] <= 30: \r\n",
    "                total_power += amplitude[l]\r\n",
    "                total_fp = total_fp + (amplitude[l] * freq[l])\r\n",
    "                if freq[l] >= 1.0  and freq[l] <= 4.0:\r\n",
    "                    sum_delta += amplitude[l]\r\n",
    "                if freq[l] >= 4.0  and freq[l] <= 8.0:\r\n",
    "                    sum_theta += amplitude[l]\r\n",
    "                if freq[l] >= 8.0  and freq[l] <= 13.0:\r\n",
    "                    sum_alpha += amplitude[l]\r\n",
    "                if freq[l] >= 13.0 and freq[l] <= 30.0:\r\n",
    "                    sum_beta  += amplitude[l]\r\n",
    "\r\n",
    "        MPF[i]   = total_fp  / total_power\r\n",
    "        alpha[i] = sum_alpha / total_power \r\n",
    "        beta[i]  = sum_beta  / total_power\r\n",
    "        theta[i] = sum_theta / total_power\r\n",
    "        delta[i] = sum_delta / total_power\r\n",
    "        \r\n",
    "    output_data.append(MPF)\r\n",
    "    output_data.append(alpha)\r\n",
    "    output_data.append(beta)\r\n",
    "    output_data.append(theta)\r\n",
    "    output_data.append(delta)\r\n",
    "df = pd.DataFrame(output_data, index=['O1_MPF', 'O1_alpha', 'O1_beta', 'O1_theta', 'O1_delta',\\\r\n",
    "                                            'O2_MPF', 'O2_alpha', 'O2_beta', 'O2_theta', 'O2_delta']).T\r\n",
    "print(df)"
   ]
  },
  {
   "cell_type": "code",
   "execution_count": 97,
   "metadata": {},
   "outputs": [
    {
     "name": "stdout",
     "output_type": "stream",
     "text": [
      "time     O1_MPF  O1_alpha   O1_beta  O1_theta  O1_delta     O2_MPF  \\\n",
      "0       0  13.431973  0.110937  0.513184  0.171229  0.204650   8.542997   \n",
      "1       1  12.631207  0.166735  0.440731  0.164397  0.228137   9.018923   \n",
      "2       2  12.538571  0.158664  0.448071  0.142477  0.250788   9.488294   \n",
      "3       3  11.453838  0.181045  0.393725  0.178593  0.246638   5.445266   \n",
      "4       4  13.941220  0.138106  0.546005  0.156303  0.159586   5.708028   \n",
      "..    ...        ...       ...       ...       ...       ...        ...   \n",
      "177   177   8.625899  0.153632  0.240799  0.158557  0.447012   8.983073   \n",
      "178   178  12.512118  0.221389  0.417275  0.223861  0.137474   8.794282   \n",
      "179   179  14.154308  0.231841  0.494551  0.180317  0.093291  10.633854   \n",
      "180   180  13.495515  0.305092  0.422930  0.152995  0.118983   9.390828   \n",
      "181   181  11.957704  0.217038  0.381041  0.204213  0.197707  10.378335   \n",
      "\n",
      "     O2_alpha   O2_beta  O2_theta  O2_delta  \n",
      "0    0.121766  0.217606  0.180619  0.480009  \n",
      "1    0.175065  0.244647  0.137827  0.442461  \n",
      "2    0.220841  0.248862  0.132023  0.398275  \n",
      "3    0.074890  0.076001  0.228851  0.620258  \n",
      "4    0.069775  0.130182  0.108768  0.691275  \n",
      "..        ...       ...       ...       ...  \n",
      "177  0.130232  0.260471  0.189066  0.420231  \n",
      "178  0.231354  0.221887  0.096508  0.450250  \n",
      "179  0.226393  0.339171  0.099423  0.335013  \n",
      "180  0.212432  0.255239  0.156156  0.376173  \n",
      "181  0.225247  0.321549  0.084695  0.368510  \n",
      "\n",
      "[182 rows x 11 columns]\n"
     ]
    }
   ],
   "source": [
    "output = pd.concat([time, df], axis=1)\r\n",
    "print(output)"
   ]
  },
  {
   "cell_type": "code",
   "execution_count": 98,
   "metadata": {},
   "outputs": [],
   "source": [
    "# Output data\r\n",
    "output_folder_path = 'D:\\\\iriwa\\\\デスクトップ\\\\Code\\\\Project_Python\\\\Research\\\\EEG_test'\r\n",
    "output.to_excel(output_folder_path + '\\\\' + output_filename +'.xlsx', sheet_name=output_filename, index=False)\r\n"
   ]
  }
 ],
 "metadata": {
  "kernelspec": {
   "display_name": "Python 3",
   "language": "python",
   "name": "python3"
  },
  "language_info": {
   "codemirror_mode": {
    "name": "ipython",
    "version": 3
   },
   "file_extension": ".py",
   "mimetype": "text/x-python",
   "name": "python",
   "nbconvert_exporter": "python",
   "pygments_lexer": "ipython3",
   "version": "3.7.9"
  },
  "orig_nbformat": 2
 },
 "nbformat": 4,
 "nbformat_minor": 2
}