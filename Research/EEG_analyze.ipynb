{
 "cells": [
  {
   "cell_type": "code",
   "execution_count": 90,
   "metadata": {},
   "outputs": [],
   "source": [
    "# Import \r\n",
    "import pandas as pd\r\n",
    "import numpy as np\r\n",
    "from scipy import signal\r\n",
    "import openpyxl"
   ]
  },
  {
   "cell_type": "code",
   "execution_count": 91,
   "metadata": {},
   "outputs": [
    {
     "name": "stdout",
     "output_type": "stream",
     "text": [
      "time        O1        O2\n",
      "0           0.000 -0.081250 -0.306250\n",
      "1           0.001 -0.156250 -0.028125\n",
      "2           0.002  0.093750  0.181250\n",
      "3           0.003  0.362500  0.318750\n",
      "4           0.004  0.653125  0.418750\n",
      "...           ...       ...       ...\n",
      "1846495  1846.495  0.506250 -0.984375\n",
      "1846496  1846.496  0.393750 -1.250000\n",
      "1846497  1846.497 -0.221875 -1.237500\n",
      "1846498  1846.498 -0.646875 -1.009375\n",
      "1846499  1846.499 -0.721875 -0.731250\n",
      "\n",
      "[1846500 rows x 3 columns]\n"
     ]
    }
   ],
   "source": [
    "# Input file\r\n",
    "folder_path = r'D:\\iriwa\\デスクトップ\\Code\\Project_Python\\Research'\r\n",
    "file_name = r'\\yoshiyama.txt'\r\n",
    "\r\n",
    "output_filename = '吉山'+'(EEG)'\r\n",
    "\r\n",
    "\r\n",
    "input_data = pd.read_table(folder_path + file_name, header=None, skiprows=6, names=('time','O1','O2'))\r\n",
    "input_data = input_data.interpolate()\r\n",
    "print(input_data)"
   ]
  },
  {
   "cell_type": "code",
   "execution_count": 92,
   "metadata": {},
   "outputs": [
    {
     "name": "stdout",
     "output_type": "stream",
     "text": [
      "1846秒分のデータ\n",
      "      time\n",
      "0        0\n",
      "1        1\n",
      "2        2\n",
      "3        3\n",
      "4        4\n",
      "...    ...\n",
      "1841  1841\n",
      "1842  1842\n",
      "1843  1843\n",
      "1844  1844\n",
      "1845  1845\n",
      "\n",
      "[1846 rows x 1 columns]\n"
     ]
    }
   ],
   "source": [
    "N  = 1024   # Sampling size # サンプリングサイズ(FFTサイズ)\r\n",
    "dt = 0.001  # Sampling period[s]        # サンプリング周期[s]\r\n",
    "fs = 1/dt   # Sampling rate[Hz]         # サンプリング周波数[Hz]\r\n",
    "TIME = int(len(input_data)/fs)  # Data time[s]  #データ時間[s]\r\n",
    "print('%d秒分のデータ'%TIME)\r\n",
    "time = pd.DataFrame({'time': [i for i in range(TIME)]})\r\n",
    "print(time)"
   ]
  },
  {
   "cell_type": "code",
   "execution_count": 93,
   "metadata": {},
   "outputs": [],
   "source": [
    "filter1 = signal.firwin(numtaps=16, cutoff=[1,30],pass_zero=False, fs=1/dt) # Filter (bandpass)\r\n",
    "wf = signal.hamming(N)  # Window function(hamming)"
   ]
  },
  {
   "cell_type": "code",
   "execution_count": 94,
   "metadata": {},
   "outputs": [
    {
     "name": "stdout",
     "output_type": "stream",
     "text": [
      "O1_MPF  O1_alpha   O1_beta  O1_theta  O1_delta    O2_MPF  O2_alpha  \\\n",
      "0     13.686829  0.319327  0.448741  0.114465  0.117466  8.129601  0.131708   \n",
      "1     13.281665  0.275267  0.418969  0.114246  0.191518  9.042647  0.144431   \n",
      "2     14.006504  0.197290  0.533035  0.186214  0.083460  9.191498  0.142544   \n",
      "3      9.822893  0.136853  0.316846  0.162246  0.384055  3.406144  0.028116   \n",
      "4     12.621599  0.306302  0.444937  0.122499  0.126262  5.281067  0.071322   \n",
      "...         ...       ...       ...       ...       ...       ...       ...   \n",
      "1841   6.707479  0.122120  0.111139  0.272198  0.494543  7.020728  0.112570   \n",
      "1842   7.227837  0.147290  0.140346  0.340311  0.372053  4.905181  0.039817   \n",
      "1843   7.224495  0.173272  0.144755  0.240751  0.441222  4.831436  0.048145   \n",
      "1844   7.679220  0.186126  0.140424  0.358487  0.314964  5.182000  0.076747   \n",
      "1845   7.543445  0.124626  0.147187  0.347134  0.381053  3.547394  0.027317   \n",
      "\n",
      "       O2_beta  O2_theta  O2_delta  \n",
      "0     0.195265  0.284319  0.388708  \n",
      "1     0.267448  0.143516  0.444605  \n",
      "2     0.272200  0.138904  0.446353  \n",
      "3     0.024447  0.074576  0.872862  \n",
      "4     0.087141  0.209599  0.631937  \n",
      "...        ...       ...       ...  \n",
      "1841  0.165040  0.164435  0.557955  \n",
      "1842  0.051317  0.218809  0.690057  \n",
      "1843  0.071768  0.196565  0.683522  \n",
      "1844  0.078491  0.159005  0.685758  \n",
      "1845  0.030435  0.075453  0.866795  \n",
      "\n",
      "[1846 rows x 10 columns]\n"
     ]
    }
   ],
   "source": [
    "output_data = []\r\n",
    "for n in range(2):\r\n",
    "    filter_data = signal.lfilter(filter1, 1, input_data.iloc[:, n+1])   # Filtering(bandpass)   # フィルタリング(バンドパス)\r\n",
    "    # cut_data    = []    #cutting for FFT   # FFT用に整形されたデータ\r\n",
    "    # window_data = []    #apply window function # 窓関数適用データ\r\n",
    "    \r\n",
    "    MPF   = [np.nan for i in range(TIME)]\r\n",
    "    alpha = [np.nan for i in range(TIME)]\r\n",
    "    beta  = [np.nan for i in range(TIME)]\r\n",
    "    theta = [np.nan for i in range(TIME)]\r\n",
    "    delta = [np.nan for i in range(TIME)]\r\n",
    "\r\n",
    "    for i in range(TIME):\r\n",
    "        # Formatted to 1s(1000+24data) & Apply window function  # 1秒(1000+24個)を切り取り & 窓関数適用\r\n",
    "        Format_data = [filter_data[j+i*int(fs)] * wf[j] for j in range(N)]  # Formatted to 1s(1000+24data)  # 1秒(1000+24個)を切り取り\r\n",
    "\r\n",
    "        #Func_FFT() #FFT    #高速フーリエ変換\r\n",
    "        F = np.fft.fft(Format_data)\r\n",
    "        amplitude = np.abs(F)   # Amplitude     # 振幅スペクトル(F/N/2)\r\n",
    "        power = amplitude ** 2        # Power         # パワースペクトル\r\n",
    "        density = power/(fs/N)     # Power Density # パワースペクトル密度\r\n",
    "        freq = np.fft.fftfreq(N, d=dt)\r\n",
    "        f_l = int(len(freq)/2)\r\n",
    "        \r\n",
    "        #Func_cal\r\n",
    "        sum_alpha = 0\r\n",
    "        sum_beta = 0\r\n",
    "        sum_theta = 0\r\n",
    "        sum_delta = 0\r\n",
    "        total_fp = 0\r\n",
    "        total_power = 0\r\n",
    "\r\n",
    "        for l in range(f_l):\r\n",
    "            if freq[l] >= 1.0 and freq[l] <= 30: \r\n",
    "                total_power += amplitude[l]\r\n",
    "                total_fp = total_fp + (amplitude[l] * freq[l])\r\n",
    "                if freq[l] >= 1.0  and freq[l] <= 4.0:\r\n",
    "                    sum_delta += amplitude[l]\r\n",
    "                if freq[l] >= 4.0  and freq[l] <= 8.0:\r\n",
    "                    sum_theta += amplitude[l]\r\n",
    "                if freq[l] >= 8.0  and freq[l] <= 13.0:\r\n",
    "                    sum_alpha += amplitude[l]\r\n",
    "                if freq[l] >= 13.0 and freq[l] <= 30.0:\r\n",
    "                    sum_beta  += amplitude[l]\r\n",
    "\r\n",
    "        MPF[i]   = total_fp  / total_power\r\n",
    "        alpha[i] = sum_alpha / total_power \r\n",
    "        beta[i]  = sum_beta  / total_power\r\n",
    "        theta[i] = sum_theta / total_power\r\n",
    "        delta[i] = sum_delta / total_power\r\n",
    "        \r\n",
    "    output_data.append(MPF)\r\n",
    "    output_data.append(alpha)\r\n",
    "    output_data.append(beta)\r\n",
    "    output_data.append(theta)\r\n",
    "    output_data.append(delta)\r\n",
    "df = pd.DataFrame(output_data, index=['O1_MPF', 'O1_alpha', 'O1_beta', 'O1_theta', 'O1_delta',\\\r\n",
    "                                            'O2_MPF', 'O2_alpha', 'O2_beta', 'O2_theta', 'O2_delta']).T\r\n",
    "print(df)"
   ]
  },
  {
   "cell_type": "code",
   "execution_count": 95,
   "metadata": {},
   "outputs": [
    {
     "name": "stdout",
     "output_type": "stream",
     "text": [
      "time     O1_MPF  O1_alpha   O1_beta  O1_theta  O1_delta    O2_MPF  \\\n",
      "0        0  13.686829  0.319327  0.448741  0.114465  0.117466  8.129601   \n",
      "1        1  13.281665  0.275267  0.418969  0.114246  0.191518  9.042647   \n",
      "2        2  14.006504  0.197290  0.533035  0.186214  0.083460  9.191498   \n",
      "3        3   9.822893  0.136853  0.316846  0.162246  0.384055  3.406144   \n",
      "4        4  12.621599  0.306302  0.444937  0.122499  0.126262  5.281067   \n",
      "...    ...        ...       ...       ...       ...       ...       ...   \n",
      "1841  1841   6.707479  0.122120  0.111139  0.272198  0.494543  7.020728   \n",
      "1842  1842   7.227837  0.147290  0.140346  0.340311  0.372053  4.905181   \n",
      "1843  1843   7.224495  0.173272  0.144755  0.240751  0.441222  4.831436   \n",
      "1844  1844   7.679220  0.186126  0.140424  0.358487  0.314964  5.182000   \n",
      "1845  1845   7.543445  0.124626  0.147187  0.347134  0.381053  3.547394   \n",
      "\n",
      "      O2_alpha   O2_beta  O2_theta  O2_delta  \n",
      "0     0.131708  0.195265  0.284319  0.388708  \n",
      "1     0.144431  0.267448  0.143516  0.444605  \n",
      "2     0.142544  0.272200  0.138904  0.446353  \n",
      "3     0.028116  0.024447  0.074576  0.872862  \n",
      "4     0.071322  0.087141  0.209599  0.631937  \n",
      "...        ...       ...       ...       ...  \n",
      "1841  0.112570  0.165040  0.164435  0.557955  \n",
      "1842  0.039817  0.051317  0.218809  0.690057  \n",
      "1843  0.048145  0.071768  0.196565  0.683522  \n",
      "1844  0.076747  0.078491  0.159005  0.685758  \n",
      "1845  0.027317  0.030435  0.075453  0.866795  \n",
      "\n",
      "[1846 rows x 11 columns]\n"
     ]
    }
   ],
   "source": [
    "output = pd.concat([time, df], axis=1)\r\n",
    "print(output)"
   ]
  },
  {
   "cell_type": "code",
   "execution_count": 96,
   "metadata": {},
   "outputs": [],
   "source": [
    "# Output data\r\n",
    "output_folder_path = 'D:\\\\iriwa\\\\デスクトップ\\\\Code\\\\Project_Python\\\\Research\\\\EEG'\r\n",
    "output.to_excel(output_folder_path + '\\\\' + output_filename +'.xlsx', sheet_name=output_filename, index=False)\r\n"
   ]
  }
 ],
 "metadata": {
  "kernelspec": {
   "display_name": "Python 3",
   "language": "python",
   "name": "python3"
  },
  "language_info": {
   "codemirror_mode": {
    "name": "ipython",
    "version": 3
   },
   "file_extension": ".py",
   "mimetype": "text/x-python",
   "name": "python",
   "nbconvert_exporter": "python",
   "pygments_lexer": "ipython3",
   "version": "3.7.9"
  },
  "orig_nbformat": 2
 },
 "nbformat": 4,
 "nbformat_minor": 2
}