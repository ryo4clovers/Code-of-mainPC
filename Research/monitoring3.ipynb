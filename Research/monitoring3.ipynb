{
 "cells": [
  {
   "cell_type": "markdown",
   "metadata": {},
   "source": [
    "# 主観評価(中野記録分)\r\n",
    "主観評価記録(.xlsx)を整理するツール\r\n",
    "jupyter notebook 試用運転含めて作成\r\n",
    "※複数パターンあり\r\n"
   ]
  },
  {
   "cell_type": "code",
   "execution_count": 43,
   "metadata": {},
   "outputs": [
    {
     "name": "stdout",
     "output_type": "stream",
     "text": [
      "1.0.3\n",
      "1.18.1\n"
     ]
    }
   ],
   "source": [
    "# Import \r\n",
    "import pandas as pd\r\n",
    "import numpy as np\r\n",
    "print(pd.__version__)\r\n",
    "print(np.__version__)"
   ]
  },
  {
   "cell_type": "code",
   "execution_count": 44,
   "metadata": {},
   "outputs": [
    {
     "name": "stdout",
     "output_type": "stream",
     "text": [
      "0   1    2    3\n",
      "0    00:00:00 NaN  1.0    0\n",
      "1    00:00:10 NaN  1.0    1\n",
      "2    00:00:20 NaN  1.0    2\n",
      "3    00:00:30 NaN  1.0    3\n",
      "4    00:00:40 NaN  1.0    4\n",
      "..        ...  ..  ...  ...\n",
      "356  00:59:20 NaN  NaN  356\n",
      "357  00:59:30 NaN  NaN  357\n",
      "358  00:59:40 NaN  NaN  358\n",
      "359  00:59:50 NaN  NaN  359\n",
      "360  01:00:00 NaN  NaN  360\n",
      "\n",
      "[361 rows x 4 columns]\n"
     ]
    }
   ],
   "source": [
    "# Input file\r\n",
    "file_path = r'D:\\iriwa\\デスクトップ\\Code\\Project_Python\\Research\\20201201-國本.xlsx'\r\n",
    "output_filename = '國本'+'(Monitoring_C)'\r\n",
    "\r\n",
    "input_data = pd.read_excel(file_path, header=None, skiprows=3)\r\n",
    "print(input_data)"
   ]
  },
  {
   "cell_type": "code",
   "execution_count": 45,
   "metadata": {},
   "outputs": [
    {
     "name": "stdout",
     "output_type": "stream",
     "text": [
      "Montoring\n",
      "0            1\n",
      "1            1\n",
      "2            1\n",
      "3            1\n",
      "4            1\n",
      "..         ...\n",
      "236          2\n",
      "237          2\n",
      "238          2\n",
      "239          2\n",
      "240          2\n",
      "\n",
      "[241 rows x 1 columns]\n"
     ]
    }
   ],
   "source": [
    "# Data handling\r\n",
    "df1 = pd.DataFrame({'Montoring': input_data.iloc[:,2].dropna().astype('int')})\r\n",
    "print(df1)"
   ]
  },
  {
   "cell_type": "code",
   "execution_count": 46,
   "metadata": {},
   "outputs": [
    {
     "name": "stdout",
     "output_type": "stream",
     "text": [
      "time\n",
      "0       0\n",
      "1      10\n",
      "2      20\n",
      "3      30\n",
      "4      40\n",
      "..    ...\n",
      "236  2360\n",
      "237  2370\n",
      "238  2380\n",
      "239  2390\n",
      "240  2400\n",
      "\n",
      "[241 rows x 1 columns]\n"
     ]
    }
   ],
   "source": [
    "df2 = pd.DataFrame({'time': [i*10 for i in range(len(df1))]})\r\n",
    "print(df2)\r\n"
   ]
  },
  {
   "cell_type": "code",
   "execution_count": 47,
   "metadata": {},
   "outputs": [
    {
     "name": "stdout",
     "output_type": "stream",
     "text": [
      "time  Montoring\n",
      "0       0          1\n",
      "1      10          1\n",
      "2      20          1\n",
      "3      30          1\n",
      "4      40          1\n",
      "..    ...        ...\n",
      "236  2360          2\n",
      "237  2370          2\n",
      "238  2380          2\n",
      "239  2390          2\n",
      "240  2400          2\n",
      "\n",
      "[241 rows x 2 columns]\n"
     ]
    }
   ],
   "source": [
    "output_data = pd.concat([df2, df1], axis=1)\r\n",
    "print(output_data)"
   ]
  },
  {
   "cell_type": "code",
   "execution_count": 48,
   "metadata": {},
   "outputs": [],
   "source": [
    "# Output data\r\n",
    "output_folder_path = 'D:\\\\iriwa\\\\デスクトップ\\\\Code\\\\Project_Python\\\\Research\\\\Monitoring'\r\n",
    "output_data.to_excel(output_folder_path + '\\\\' + output_filename +'.xlsx', sheet_name=output_filename, index=False)\r\n"
   ]
  }
 ],
 "metadata": {
  "kernelspec": {
   "display_name": "Python 3",
   "language": "python",
   "name": "python3"
  },
  "language_info": {
   "codemirror_mode": {
    "name": "ipython",
    "version": 3
   },
   "file_extension": ".py",
   "mimetype": "text/x-python",
   "name": "python",
   "nbconvert_exporter": "python",
   "pygments_lexer": "ipython3",
   "version": "3.7.7"
  },
  "orig_nbformat": 2
 },
 "nbformat": 4,
 "nbformat_minor": 2
}