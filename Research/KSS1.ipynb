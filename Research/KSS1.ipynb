{
 "cells": [
  {
   "cell_type": "markdown",
   "metadata": {},
   "source": [
    "# KSS(岩橋記録分)\r\n",
    "KSS評価記録(.xlsx)を整理するツール\r\n",
    "jupyter notebook 試用運転含めて作成\r\n",
    "※複数パターンあり\r\n"
   ]
  },
  {
   "cell_type": "code",
   "execution_count": 124,
   "metadata": {},
   "outputs": [],
   "source": [
    "# Import \r\n",
    "import pandas as pd\r\n",
    "import numpy as np\r\n",
    "print(pd.__version__)\r\n",
    "print(np.__version__)"
   ]
  },
  {
   "cell_type": "code",
   "execution_count": 125,
   "metadata": {},
   "outputs": [],
   "source": [
    "# Input file\r\n",
    "file_path = r'D:\\iriwa\\デスクトップ\\Code\\Project_Python\\Research\\20201208_suzuki_KSS.xlsx'\r\n",
    "output_filename = '鈴木'+'(KSS)'\r\n",
    "\r\n",
    "input_data = pd.read_excel(file_path, header=None, skiprows=1)\r\n",
    "print(input_data)"
   ]
  },
  {
   "cell_type": "code",
   "execution_count": 126,
   "metadata": {},
   "outputs": [],
   "source": [
    "# Data handling\r\n",
    "df1 = pd.DataFrame({'KSS': input_data.iloc[:,1].dropna().astype('int')})\r\n",
    "print(df1)"
   ]
  },
  {
   "cell_type": "code",
   "execution_count": 127,
   "metadata": {},
   "outputs": [],
   "source": [
    "df2 = pd.DataFrame({'time': [i*30 for i in range(len(df1))]})\r\n",
    "print(df2)\r\n"
   ]
  },
  {
   "cell_type": "code",
   "execution_count": 128,
   "metadata": {},
   "outputs": [],
   "source": [
    "output_data = pd.concat([df2, df1], axis=1)\r\n",
    "print(output_data)"
   ]
  },
  {
   "cell_type": "code",
   "execution_count": 129,
   "metadata": {},
   "outputs": [],
   "source": [
    "# Output data\r\n",
    "output_folder_path = 'D:\\\\iriwa\\\\デスクトップ\\\\Code\\\\Project_Python\\\\Research\\\\KSS'\r\n",
    "output_data.to_excel(output_folder_path + '\\\\' + output_filename +'.xlsx', sheet_name=output_filename, index=False)\r\n"
   ]
  }
 ],
 "metadata": {
  "kernelspec": {
   "display_name": "Python 3",
   "language": "python",
   "name": "python3"
  },
  "language_info": {
   "codemirror_mode": {
    "name": "ipython",
    "version": 3
   },
   "file_extension": ".py",
   "mimetype": "text/x-python",
   "name": "python",
   "nbconvert_exporter": "python",
   "pygments_lexer": "ipython3",
   "version": "3.7.7"
  },
  "orig_nbformat": 2
 },
 "nbformat": 4,
 "nbformat_minor": 2
}